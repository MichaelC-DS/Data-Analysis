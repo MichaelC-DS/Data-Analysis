{
 "cells": [
  {
   "cell_type": "code",
   "execution_count": 1,
   "id": "wrapped-piano",
   "metadata": {},
   "outputs": [],
   "source": [
    "import visuals as vs\n",
    "import numpy as np\n",
    "import pandas as pd\n",
    "from sklearn.model_selection import ShuffleSplit\n",
    "%matplotlib inline\n",
    "import random\n",
    "ru = random.uniform"
   ]
  },
  {
   "cell_type": "code",
   "execution_count": 2,
   "id": "cathedral-daisy",
   "metadata": {},
   "outputs": [],
   "source": [
    "data = pd.read_csv('C:/Users/michael/appdata/local/programs/python/python39/PROJECTS/Data/Grid_Data.csv')"
   ]
  },
  {
   "cell_type": "code",
   "execution_count": 3,
   "id": "generic-career",
   "metadata": {},
   "outputs": [
    {
     "data": {
      "text/html": [
       "<div>\n",
       "<style scoped>\n",
       "    .dataframe tbody tr th:only-of-type {\n",
       "        vertical-align: middle;\n",
       "    }\n",
       "\n",
       "    .dataframe tbody tr th {\n",
       "        vertical-align: top;\n",
       "    }\n",
       "\n",
       "    .dataframe thead th {\n",
       "        text-align: right;\n",
       "    }\n",
       "</style>\n",
       "<table border=\"1\" class=\"dataframe\">\n",
       "  <thead>\n",
       "    <tr style=\"text-align: right;\">\n",
       "      <th></th>\n",
       "      <th>tau1</th>\n",
       "      <th>tau2</th>\n",
       "      <th>tau3</th>\n",
       "      <th>tau4</th>\n",
       "      <th>p1</th>\n",
       "      <th>p2</th>\n",
       "      <th>p3</th>\n",
       "      <th>p4</th>\n",
       "      <th>g1</th>\n",
       "      <th>g2</th>\n",
       "      <th>g3</th>\n",
       "      <th>g4</th>\n",
       "      <th>stab</th>\n",
       "      <th>stabf</th>\n",
       "    </tr>\n",
       "  </thead>\n",
       "  <tbody>\n",
       "    <tr>\n",
       "      <th>0</th>\n",
       "      <td>2.959060</td>\n",
       "      <td>3.079885</td>\n",
       "      <td>8.381025</td>\n",
       "      <td>9.780754</td>\n",
       "      <td>3.763085</td>\n",
       "      <td>-0.782604</td>\n",
       "      <td>-1.257395</td>\n",
       "      <td>-1.723086</td>\n",
       "      <td>0.650456</td>\n",
       "      <td>0.859578</td>\n",
       "      <td>0.887445</td>\n",
       "      <td>0.958034</td>\n",
       "      <td>0.055347</td>\n",
       "      <td>unstable</td>\n",
       "    </tr>\n",
       "    <tr>\n",
       "      <th>1</th>\n",
       "      <td>9.304097</td>\n",
       "      <td>4.902524</td>\n",
       "      <td>3.047541</td>\n",
       "      <td>1.369357</td>\n",
       "      <td>5.067812</td>\n",
       "      <td>-1.940058</td>\n",
       "      <td>-1.872742</td>\n",
       "      <td>-1.255012</td>\n",
       "      <td>0.413441</td>\n",
       "      <td>0.862414</td>\n",
       "      <td>0.562139</td>\n",
       "      <td>0.781760</td>\n",
       "      <td>-0.005957</td>\n",
       "      <td>stable</td>\n",
       "    </tr>\n",
       "    <tr>\n",
       "      <th>2</th>\n",
       "      <td>8.971707</td>\n",
       "      <td>8.848428</td>\n",
       "      <td>3.046479</td>\n",
       "      <td>1.214518</td>\n",
       "      <td>3.405158</td>\n",
       "      <td>-1.207456</td>\n",
       "      <td>-1.277210</td>\n",
       "      <td>-0.920492</td>\n",
       "      <td>0.163041</td>\n",
       "      <td>0.766689</td>\n",
       "      <td>0.839444</td>\n",
       "      <td>0.109853</td>\n",
       "      <td>0.003471</td>\n",
       "      <td>unstable</td>\n",
       "    </tr>\n",
       "    <tr>\n",
       "      <th>3</th>\n",
       "      <td>0.716415</td>\n",
       "      <td>7.669600</td>\n",
       "      <td>4.486641</td>\n",
       "      <td>2.340563</td>\n",
       "      <td>3.963791</td>\n",
       "      <td>-1.027473</td>\n",
       "      <td>-1.938944</td>\n",
       "      <td>-0.997374</td>\n",
       "      <td>0.446209</td>\n",
       "      <td>0.976744</td>\n",
       "      <td>0.929381</td>\n",
       "      <td>0.362718</td>\n",
       "      <td>0.028871</td>\n",
       "      <td>unstable</td>\n",
       "    </tr>\n",
       "    <tr>\n",
       "      <th>4</th>\n",
       "      <td>3.134112</td>\n",
       "      <td>7.608772</td>\n",
       "      <td>4.943759</td>\n",
       "      <td>9.857573</td>\n",
       "      <td>3.525811</td>\n",
       "      <td>-1.125531</td>\n",
       "      <td>-1.845975</td>\n",
       "      <td>-0.554305</td>\n",
       "      <td>0.797110</td>\n",
       "      <td>0.455450</td>\n",
       "      <td>0.656947</td>\n",
       "      <td>0.820923</td>\n",
       "      <td>0.049860</td>\n",
       "      <td>unstable</td>\n",
       "    </tr>\n",
       "  </tbody>\n",
       "</table>\n",
       "</div>"
      ],
      "text/plain": [
       "       tau1      tau2      tau3      tau4        p1        p2        p3  \\\n",
       "0  2.959060  3.079885  8.381025  9.780754  3.763085 -0.782604 -1.257395   \n",
       "1  9.304097  4.902524  3.047541  1.369357  5.067812 -1.940058 -1.872742   \n",
       "2  8.971707  8.848428  3.046479  1.214518  3.405158 -1.207456 -1.277210   \n",
       "3  0.716415  7.669600  4.486641  2.340563  3.963791 -1.027473 -1.938944   \n",
       "4  3.134112  7.608772  4.943759  9.857573  3.525811 -1.125531 -1.845975   \n",
       "\n",
       "         p4        g1        g2        g3        g4      stab     stabf  \n",
       "0 -1.723086  0.650456  0.859578  0.887445  0.958034  0.055347  unstable  \n",
       "1 -1.255012  0.413441  0.862414  0.562139  0.781760 -0.005957    stable  \n",
       "2 -0.920492  0.163041  0.766689  0.839444  0.109853  0.003471  unstable  \n",
       "3 -0.997374  0.446209  0.976744  0.929381  0.362718  0.028871  unstable  \n",
       "4 -0.554305  0.797110  0.455450  0.656947  0.820923  0.049860  unstable  "
      ]
     },
     "execution_count": 3,
     "metadata": {},
     "output_type": "execute_result"
    }
   ],
   "source": [
    "data.head()\n",
    "#tau[x]: Averaging Time - reaction time of participant (real from the range[0.5,10]s). Tau1 - the value for electricity producer\n",
    "#p[x]: Coupling Strength - nominal power consumed(negative)/produced(positive)(real). For consumers from the range [-0.5,-2]s*-2; p1 = abs(p2+p3+p4)\n",
    "#g[x]: Damping - coefficient (gamma) proportional to price elasticity (real from the range [0.05, 1]s^-1). g1 - the value for electricity producer\n",
    "#stab: the maximal real part of the characteristic equation root (if positive - the system is linearly unstable) (real)\n",
    "#stabf: the stability label of the system (categorical: stable/unstable)"
   ]
  },
  {
   "cell_type": "code",
   "execution_count": 4,
   "id": "hindu-attention",
   "metadata": {},
   "outputs": [],
   "source": [
    "stability_values = data['stab']\n",
    "features = data.drop(['p1', 'stab', 'stabf'], axis=1)"
   ]
  },
  {
   "cell_type": "code",
   "execution_count": 5,
   "id": "national-combine",
   "metadata": {},
   "outputs": [
    {
     "data": {
      "text/plain": [
       "count    10000.000000\n",
       "mean         0.015731\n",
       "std          0.036919\n",
       "min         -0.080760\n",
       "25%         -0.015557\n",
       "50%          0.017142\n",
       "75%          0.044878\n",
       "max          0.109403\n",
       "Name: stab, dtype: float64"
      ]
     },
     "execution_count": 5,
     "metadata": {},
     "output_type": "execute_result"
    }
   ],
   "source": [
    "stability_values.describe()"
   ]
  },
  {
   "cell_type": "code",
   "execution_count": 6,
   "id": "built-characterization",
   "metadata": {},
   "outputs": [],
   "source": [
    "from sklearn.metrics import r2_score"
   ]
  },
  {
   "cell_type": "code",
   "execution_count": 7,
   "id": "significant-constitution",
   "metadata": {},
   "outputs": [],
   "source": [
    "def performance_metric(y_true, y_predict):\n",
    "    score = r2_score(y_true, y_predict)\n",
    "    return score"
   ]
  },
  {
   "cell_type": "code",
   "execution_count": 8,
   "id": "prompt-glenn",
   "metadata": {},
   "outputs": [],
   "source": [
    "from sklearn.model_selection import train_test_split"
   ]
  },
  {
   "cell_type": "code",
   "execution_count": 9,
   "id": "continental-sierra",
   "metadata": {},
   "outputs": [
    {
     "name": "stdout",
     "output_type": "stream",
     "text": [
      "Train & Test split successful\n"
     ]
    }
   ],
   "source": [
    "x_train, x_test, y_train, y_test = train_test_split(features, stability_values, test_size=0.25, random_state=12)\n",
    "print(\"Train & Test split successful\")"
   ]
  },
  {
   "cell_type": "code",
   "execution_count": 10,
   "id": "proved-traffic",
   "metadata": {},
   "outputs": [
    {
     "data": {
      "image/png": "[encoded data removed]",
      "text/plain": [
       "<Figure size 720x504 with 4 Axes>"
      ]
     },
     "metadata": {
      "needs_background": "light"
     },
     "output_type": "display_data"
    }
   ],
   "source": [
    "vs.ModelLearning(features, stability_values)"
   ]
  },
  {
   "cell_type": "code",
   "execution_count": 11,
   "id": "level-knock",
   "metadata": {},
   "outputs": [
    {
     "data": {
      "image/png": "[encoded data removed]",
      "text/plain": [
       "<Figure size 504x360 with 1 Axes>"
      ]
     },
     "metadata": {
      "needs_background": "light"
     },
     "output_type": "display_data"
    }
   ],
   "source": [
    "vs.ModelComplexity(x_train, y_train)"
   ]
  },
  {
   "cell_type": "code",
   "execution_count": 12,
   "id": "polyphonic-symposium",
   "metadata": {},
   "outputs": [],
   "source": [
    "from sklearn.tree import DecisionTreeRegressor\n",
    "from sklearn.metrics import make_scorer\n",
    "from sklearn.model_selection import GridSearchCV"
   ]
  },
  {
   "cell_type": "code",
   "execution_count": 13,
   "id": "little-firmware",
   "metadata": {},
   "outputs": [],
   "source": [
    "def fit_model(x, y):\n",
    "    cv_sets = ShuffleSplit(n_splits=10, test_size=0.20, random_state=0)\n",
    "    regressor = DecisionTreeRegressor()\n",
    "    params = {'max_depth':[1,2,3,4,5,6,7,8,9,10]}\n",
    "    scoring_fnc = make_scorer(performance_metric)\n",
    "    grid = GridSearchCV(estimator=regressor, param_grid=params, scoring=scoring_fnc, cv=cv_sets)\n",
    "    grid = grid.fit(x, y)\n",
    "    return grid.best_estimator_"
   ]
  },
  {
   "cell_type": "code",
   "execution_count": 14,
   "id": "infrared-duplicate",
   "metadata": {},
   "outputs": [
    {
     "name": "stdout",
     "output_type": "stream",
     "text": [
      "Parameter 'max_depth' is 10 for the optimal model.\n"
     ]
    }
   ],
   "source": [
    "reg = fit_model(x_train, y_train)\n",
    "print(\"Parameter 'max_depth' is {} for the optimal model.\".format(reg.get_params()['max_depth']))"
   ]
  },
  {
   "cell_type": "code",
   "execution_count": 15,
   "id": "stock-backing",
   "metadata": {},
   "outputs": [
    {
     "name": "stdout",
     "output_type": "stream",
     "text": [
      "[[0.9179262935059316, 0.6793105739348408, 5.584945414052857, 9.625281132333608, -0.6648230748600401, -0.8137728960161863, -0.9820024672874927, 0.29770459008414313, 0.07337551340935614, 0.3313585011123503, 0.940370192879026], [4.069516824844527, 7.210264380631147, 8.767441872929162, 1.7259053877488961, -1.4126551633413764, -1.9926388743578907, -1.5809398709499614, 0.12632991307249533, 0.15755537496377658, 0.6527722893084447, 0.09116432528972765], [2.2536271629142774, 4.742422717483529, 6.209500478510591, 6.156189878417095, -0.8155578790337161, -1.6220191197560698, -0.7892998969951173, 0.9910683305638811, 0.4513780474068316, 0.6367249597887691, 0.7407316076104543]]\n",
      "Predicted stability of Grid given Independent Variables: Stable, -0.0215\n",
      "Predicted stability of Grid given Independent Variables: Unstable, 0.0000\n",
      "Predicted stability of Grid given Independent Variables: Unstable, 0.0379\n"
     ]
    }
   ],
   "source": [
    "prediction_data = [[ru(.5, 10), ru(.5, 10), ru(.5, 10), ru(.5, 10), ru(-2, -0.5), ru(-2, -0.5), ru(-2, -0.5), ru(.05, 1), ru(.05, 1), ru(.05, 1), ru(.05, 1)],\n",
    "    [ru(.5, 10), ru(.5, 10), ru(.5, 10), ru(.5, 10), ru(-2, -0.5), ru(-2, -0.5), ru(-2, -0.5), ru(.05, 1), ru(.05, 1), ru(.05, 1), ru(.05, 1)],\n",
    "    [ru(.5, 10), ru(.5, 10), ru(.5, 10), ru(.5, 10), ru(-2, -0.5), ru(-2, -0.5), ru(-2, -0.5), ru(.05, 1), ru(.05, 1), ru(.05, 1), ru(.05, 1)]]\n",
    "print(prediction_data)\n",
    "for i, stability in enumerate(reg.predict(prediction_data)):\n",
    "    print(\"Predicted stability of Grid given Independent Variables: {}, {:.4f}\".format(\"Stable\" if stability<0 else \"Unstable\", stability))"
   ]
  },
  {
   "cell_type": "code",
   "execution_count": 16,
   "id": "backed-license",
   "metadata": {},
   "outputs": [
    {
     "name": "stdout",
     "output_type": "stream",
     "text": [
      "Trial 1: Stable, -0.0141\n",
      "Trial 2: Stable, -0.0154\n",
      "Trial 3: Stable, -0.0280\n",
      "Trial 4: Stable, -0.0206\n",
      "Trial 5: Stable, -0.0110\n",
      "Trial 6: Stable, -0.0075\n",
      "Trial 7: Stable, -0.0167\n",
      "Trial 8: Stable, -0.0089\n",
      "Trial 9: Stable, -0.0232\n",
      "Trial 10: Stable, -0.0241\n",
      "\n",
      "Range in stability: 0.0204\n"
     ]
    }
   ],
   "source": [
    "vs.PredictTrials(features, stability_values, fit_model, prediction_data)"
   ]
  },
  {
   "cell_type": "code",
   "execution_count": 17,
   "id": "alike-breed",
   "metadata": {},
   "outputs": [
    {
     "data": {
      "text/plain": [
       "count        10000\n",
       "unique           2\n",
       "top       unstable\n",
       "freq          6380\n",
       "Name: stabf, dtype: object"
      ]
     },
     "execution_count": 17,
     "metadata": {},
     "output_type": "execute_result"
    }
   ],
   "source": [
    "data['stabf'].describe()"
   ]
  }
 ],
 "metadata": {
  "kernelspec": {
   "display_name": "Python 3",
   "language": "python",
   "name": "python3"
  },
  "language_info": {
   "codemirror_mode": {
    "name": "ipython",
    "version": 3
   },
   "file_extension": ".py",
   "mimetype": "text/x-python",
   "name": "python",
   "nbconvert_exporter": "python",
   "pygments_lexer": "ipython3",
   "version": "3.9.1"
  }
 },
 "nbformat": 4,
 "nbformat_minor": 5
}
